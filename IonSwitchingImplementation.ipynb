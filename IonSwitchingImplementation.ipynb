{
 "cells": [
  {
   "cell_type": "code",
   "execution_count": null,
   "metadata": {},
   "outputs": [],
   "source": [
    "import pandas as pd\n",
    "import numpy as np\n",
    "\n",
    "from scipy import stats\n",
    "import math\n",
    "import time\n",
    "\n",
    "import matplotlib.pyplot as plt\n",
    "%matplotlib inline\n",
    "import seaborn as sns\n",
    "\n",
    "from sklearn.ensemble import RandomForestClassifier\n",
    "from sklearn.model_selection import train_test_split\n",
    "from sklearn.metrics import cohen_kappa_score\n",
    "\n",
    "import xgboost as xgb"
   ]
  },
  {
   "cell_type": "code",
   "execution_count": 2,
   "metadata": {},
   "outputs": [],
   "source": [
    "train_df = pd.read_csv('/DataScience/liverpool-ion-switching/train.csv')\n",
    "test_df = pd.read_csv('/DataScience/liverpool-ion-switching/test.csv')"
   ]
  },
  {
   "cell_type": "code",
   "execution_count": 3,
   "metadata": {},
   "outputs": [],
   "source": [
    "train_df['batch'] = 0\n",
    "for i in range(0, 10):\n",
    "    train_df.iloc[i * 500000: 500000 * (i + 1), 3] = i"
   ]
  },
  {
   "cell_type": "code",
   "execution_count": 4,
   "metadata": {},
   "outputs": [],
   "source": [
    "test_df['batch'] = 0\n",
    "for i in range(0, 4):\n",
    "    test_df.iloc[i * 500000: 500000 * (i + 1), 2] = i"
   ]
  },
  {
   "cell_type": "code",
   "execution_count": 5,
   "metadata": {},
   "outputs": [],
   "source": [
    "for i in range(1, 9):\n",
    "    prev = []\n",
    "    for batch in train_df.batch.unique():\n",
    "        prev += list(train_df[train_df.batch == batch].signal.iloc[:i])\n",
    "        prev += list(train_df[train_df.batch == batch].signal.iloc[:-i])\n",
    "    train_df['{}_prev'.format(i)] = prev\n",
    "    train_df['{}_prev'.format(i)] -= train_df.signal"
   ]
  },
  {
   "cell_type": "code",
   "execution_count": 6,
   "metadata": {},
   "outputs": [],
   "source": [
    "for i in range(1, 9):\n",
    "    prev = []\n",
    "    for batch in test_df.batch.unique():\n",
    "        prev += list(test_df[test_df.batch == batch].signal.iloc[:i])\n",
    "        prev += list(test_df[test_df.batch == batch].signal.iloc[:-i])\n",
    "    test_df['{}_prev'.format(i)] = prev\n",
    "    test_df['{}_prev'.format(i)] -= test_df.signal"
   ]
  },
  {
   "cell_type": "code",
   "execution_count": 24,
   "metadata": {},
   "outputs": [],
   "source": [
    "def add_recent_max_feature(win_size, df):\n",
    "    total_max = []\n",
    "    for batch in df.batch.unique():\n",
    "        local_max = []\n",
    "        batch_df = df[df.batch == batch].copy()\n",
    "        batch_df.reset_index(inplace=True, drop=True)\n",
    "        for row in range(len(batch_df)):\n",
    "            start_index = max(row - win_size, 0)\n",
    "            local_max.append(max(batch_df.signal.iloc[start_index : row + 1]))\n",
    "        total_max += local_max\n",
    "    return total_max\n",
    "\n",
    "def add_recent_min_feature(win_size, df):\n",
    "    total_min = []\n",
    "    for batch in df.batch.unique():\n",
    "        local_min = []\n",
    "        batch_df = df[df.batch == batch].copy()\n",
    "        batch_df.reset_index(inplace=True, drop=True)\n",
    "        for row in range(len(batch_df)):\n",
    "            start_index = max(row - win_size, 0)\n",
    "            local_min.append(min(batch_df.signal.iloc[start_index : row + 1]))\n",
    "        total_min += local_min\n",
    "    return total_min\n",
    "\n",
    "def add_recent_mean_feature(win_size, df):\n",
    "    total_mean = []\n",
    "    for batch in df.batch.unique():\n",
    "        local_mean = []\n",
    "        batch_df = df[df.batch == batch].copy()\n",
    "        batch_df.reset_index(inplace=True, drop=True)\n",
    "        for row in range(len(batch_df)):\n",
    "            start_index = max(row - win_size, 0)\n",
    "            local_mean.append(np.mean(batch_df.signal.iloc[start_index : row + 1]))\n",
    "        total_mean += local_mean\n",
    "    return total_mean\n",
    "\n",
    "def add_recent_jitter_feature(win_size, df):\n",
    "    total_jit = []\n",
    "    for batch in df.batch.unique():\n",
    "        local_jit = []\n",
    "        batch_df = df[df.batch == batch].copy()\n",
    "        batch_df.reset_index(inplace=True, drop=True)\n",
    "        for row in range(len(batch_df)):\n",
    "            start_index = max(row - win_size, 0)\n",
    "            local_jit.append(sum([abs(i) for i in batch_df['1_prev'].iloc[start_index : row + 1]]))\n",
    "        total_jit += local_jit\n",
    "    return total_jit"
   ]
  },
  {
   "cell_type": "code",
   "execution_count": 12,
   "metadata": {},
   "outputs": [],
   "source": [
    "for window in [5, 50, 500, 5000]:\n",
    "    train_df['LocalMax{}'.format(window)] = add_recent_max_feature(window, train_df)\n",
    "    test_df['LocalMax{}'.format(window)] = add_recent_max_feature(window, test_df)"
   ]
  },
  {
   "cell_type": "code",
   "execution_count": 18,
   "metadata": {},
   "outputs": [],
   "source": [
    "for window in [5, 50, 500, 5000]:\n",
    "    train_df['LocalMin{}'.format(window)] = add_recent_min_feature(window, train_df)\n",
    "    test_df['LocalMin{}'.format(window)] = add_recent_min_feature(window, test_df)\n",
    "    train_df['LocalMean{}'.format(window)] = add_recent_mean_feature(window, train_df)\n",
    "    test_df['LocalMean{}'.format(window)] = add_recent_mean_feature(window, test_df)"
   ]
  },
  {
   "cell_type": "code",
   "execution_count": 25,
   "metadata": {},
   "outputs": [],
   "source": [
    "for window in [2, 3, 5, 8, 50, 100, 500, 10000]:\n",
    "    train_df['LocalJit{}'.format(window)] = add_recent_jitter_feature(window, train_df)\n",
    "    test_df['LocalJit{}'.format(window)] = add_recent_jitter_feature(window, test_df)"
   ]
  },
  {
   "cell_type": "code",
   "execution_count": 30,
   "metadata": {},
   "outputs": [],
   "source": [
    "train_df['gap5'] = train_df['LocalMax5'] - train_df['LocalMin5']\n",
    "train_df['gap50'] = train_df['LocalMax50'] - train_df['LocalMin50']\n",
    "train_df['gap500'] = train_df['LocalMax500'] - train_df['LocalMin500']\n",
    "train_df['gap5000'] = train_df['LocalMax5000'] - train_df['LocalMin5000']\n",
    "\n",
    "test_df['gap5'] = test_df['LocalMax5'] - test_df['LocalMin5']\n",
    "test_df['gap50'] = test_df['LocalMax50'] - test_df['LocalMin50']\n",
    "test_df['gap500'] = test_df['LocalMax500'] - test_df['LocalMin500']\n",
    "test_df['gap5000'] = test_df['LocalMax5000'] - test_df['LocalMin5000']"
   ]
  },
  {
   "cell_type": "code",
   "execution_count": 31,
   "metadata": {},
   "outputs": [
    {
     "data": {
      "text/plain": [
       "Index(['time', 'signal', 'batch', '1_prev', '2_prev', '3_prev', '4_prev',\n",
       "       '5_prev', '6_prev', '7_prev', '8_prev', 'LocalMax5', 'LocalMax50',\n",
       "       'LocalMax500', 'LocalMax5000', 'LocalMin5', 'LocalMean5', 'LocalMin50',\n",
       "       'LocalMean50', 'LocalMin500', 'LocalMean500', 'LocalMin5000',\n",
       "       'LocalMean5000', 'LocalJit2', 'LocalJit3', 'LocalJit5', 'LocalJit8',\n",
       "       'LocalJit50', 'LocalJit100', 'LocalJit500', 'LocalJit10000', 'gap5',\n",
       "       'gap50', 'gap500', 'gap5000'],\n",
       "      dtype='object')"
      ]
     },
     "execution_count": 31,
     "metadata": {},
     "output_type": "execute_result"
    }
   ],
   "source": [
    "test_df.columns"
   ]
  },
  {
   "cell_type": "code",
   "execution_count": 32,
   "metadata": {},
   "outputs": [
    {
     "data": {
      "text/plain": [
       "Index(['time', 'signal', 'open_channels', 'batch', '1_prev', '2_prev',\n",
       "       '3_prev', '4_prev', '5_prev', '6_prev', '7_prev', '8_prev', 'LocalMax5',\n",
       "       'LocalMax50', 'LocalMax500', 'LocalMax5000', 'LocalMin5', 'LocalMean5',\n",
       "       'LocalMin50', 'LocalMean50', 'LocalMin500', 'LocalMean500',\n",
       "       'LocalMin5000', 'LocalMean5000', 'LocalJit2', 'LocalJit3', 'LocalJit5',\n",
       "       'LocalJit8', 'LocalJit50', 'LocalJit100', 'LocalJit500',\n",
       "       'LocalJit10000', 'gap5', 'gap50', 'gap500', 'gap5000'],\n",
       "      dtype='object')"
      ]
     },
     "execution_count": 32,
     "metadata": {},
     "output_type": "execute_result"
    }
   ],
   "source": [
    "train_df.columns"
   ]
  },
  {
   "cell_type": "code",
   "execution_count": null,
   "metadata": {},
   "outputs": [
    {
     "name": "stdout",
     "output_type": "stream",
     "text": [
      "[06:00:57] WARNING: src/learner.cc:686: Tree method is automatically selected to be 'approx' for faster speed. To use old behavior (exact greedy algorithm on single machine), set tree_method to 'exact'.\n"
     ]
    }
   ],
   "source": [
    "X = train_df.drop(['open_channels', 'time', 'batch'], 1)\n",
    "Y = train_df['open_channels']\n",
    "\n",
    "dtrain = xgb.DMatrix(X)\n",
    "dtest = xgb.DMatrix(test_df.drop(['time', 'batch'], 1))\n",
    "\n",
    "classifier = xgb.XGBClassifier(base_score=0.5, booster='gbtree', colsample_bylevel=1,\n",
    "                  colsample_bynode=1, colsample_bytree=1, \n",
    "                  learning_rate=0.07, max_delta_step=0, max_depth=6,\n",
    "                  min_child_weight=1, missing=None, n_estimators=250, n_jobs=-1,\n",
    "                  nthread=None, objective='multi:softmax', num_classes=11, random_state=0,\n",
    "                  reg_alpha=0, reg_lambda=1, scale_pos_weight=1, seed=None,\n",
    "                  silent=None, subsample=1, verbosity=1)\n",
    "classifier.fit(X, Y)\n",
    "\n",
    "y_pred = classifier.predict_proba(X_test)\n"
   ]
  },
  {
   "cell_type": "code",
   "execution_count": null,
   "metadata": {},
   "outputs": [],
   "source": []
  }
 ],
 "metadata": {
  "kernelspec": {
   "display_name": "Python 3",
   "language": "python",
   "name": "python3"
  },
  "language_info": {
   "codemirror_mode": {
    "name": "ipython",
    "version": 3
   },
   "file_extension": ".py",
   "mimetype": "text/x-python",
   "name": "python",
   "nbconvert_exporter": "python",
   "pygments_lexer": "ipython3",
   "version": "3.7.3"
  }
 },
 "nbformat": 4,
 "nbformat_minor": 2
}
